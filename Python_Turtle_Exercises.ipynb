{
  "cells": [
    {
      "cell_type": "markdown",
      "metadata": {
        "id": "ytbzyl3rnDRY"
      },
      "source": [
        "# Python Turtle Exercises\n",
        "\n",
        "This assignment aims to improve your algorithmic skills by drawing various geometric patterns using the Python Turtle library.  \n",
        "Each exercise includes a description and a code cell for your solutions.\n",
        "\n",
        "# Exercise 1: Drawing a Star\n",
        "## Description:\n",
        "Design an algorithm to draw a five-pointed star. Calculate the angle and line length correctly."
      ]
    },
    {
      "cell_type": "code",
      "execution_count": 7,
      "metadata": {
        "id": "3uUSg4xJnUAw"
      },
      "outputs": [],
      "source": [
        "import turtle\n",
        "s = turtle.Screen()\n",
        "s.bgcolor(\"LightBlue\")\n",
        "t = turtle.Turtle()\n",
        "t.color(\"red\")\n",
        "for i in range(5):\n",
        "    t.forward(120)\n",
        "    t.right(144)\n",
        "\n",
        "s.mainloop()"
      ]
    },
    {
      "cell_type": "markdown",
      "metadata": {
        "id": "tGUI2TbgnZYu"
      },
      "source": [
        "# Exercise 2: Drawing a Spiral Square\n",
        "## Description:\n",
        "Design an algorithm to draw a spiral square with increasing side lengths. Consider how to change the turtle's turning angle and movement distance after each square."
      ]
    },
    {
      "cell_type": "code",
      "execution_count": null,
      "metadata": {
        "id": "UAinAy64neJ9"
      },
      "outputs": [
        {
          "ename": "Terminator",
          "evalue": "",
          "output_type": "error",
          "traceback": [
            "\u001b[31m---------------------------------------------------------------------------\u001b[39m",
            "\u001b[31mTerminator\u001b[39m                                Traceback (most recent call last)",
            "\u001b[36mCell\u001b[39m\u001b[36m \u001b[39m\u001b[32mIn[6]\u001b[39m\u001b[32m, line 4\u001b[39m\n\u001b[32m      2\u001b[39m s = turtle.Screen()\n\u001b[32m      3\u001b[39m s.bgcolor(\u001b[33m\"\u001b[39m\u001b[33mLightBlue\u001b[39m\u001b[33m\"\u001b[39m)\n\u001b[32m----> \u001b[39m\u001b[32m4\u001b[39m t = \u001b[43mturtle\u001b[49m\u001b[43m.\u001b[49m\u001b[43mTurtle\u001b[49m\u001b[43m(\u001b[49m\u001b[43m)\u001b[49m\n\u001b[32m      5\u001b[39m t.pensize(\u001b[32m4\u001b[39m)\n\u001b[32m      6\u001b[39m \u001b[38;5;28;01mfor\u001b[39;00m i \u001b[38;5;129;01min\u001b[39;00m \u001b[38;5;28mrange\u001b[39m(\u001b[32m120\u001b[39m,\u001b[32m1\u001b[39m,-\u001b[32m5\u001b[39m):\n",
            "\u001b[36mFile \u001b[39m\u001b[32mc:\\Users\\Taha\\AppData\\Local\\Programs\\Python\\Python313\\Lib\\turtle.py:3845\u001b[39m, in \u001b[36mTurtle.__init__\u001b[39m\u001b[34m(self, shape, undobuffersize, visible)\u001b[39m\n\u001b[32m   3843\u001b[39m \u001b[38;5;28;01mif\u001b[39;00m Turtle._screen \u001b[38;5;129;01mis\u001b[39;00m \u001b[38;5;28;01mNone\u001b[39;00m:\n\u001b[32m   3844\u001b[39m     Turtle._screen = Screen()\n\u001b[32m-> \u001b[39m\u001b[32m3845\u001b[39m \u001b[43mRawTurtle\u001b[49m\u001b[43m.\u001b[49m\u001b[34;43m__init__\u001b[39;49m\u001b[43m(\u001b[49m\u001b[38;5;28;43mself\u001b[39;49m\u001b[43m,\u001b[49m\u001b[43m \u001b[49m\u001b[43mTurtle\u001b[49m\u001b[43m.\u001b[49m\u001b[43m_screen\u001b[49m\u001b[43m,\u001b[49m\n\u001b[32m   3846\u001b[39m \u001b[43m                   \u001b[49m\u001b[43mshape\u001b[49m\u001b[43m=\u001b[49m\u001b[43mshape\u001b[49m\u001b[43m,\u001b[49m\n\u001b[32m   3847\u001b[39m \u001b[43m                   \u001b[49m\u001b[43mundobuffersize\u001b[49m\u001b[43m=\u001b[49m\u001b[43mundobuffersize\u001b[49m\u001b[43m,\u001b[49m\n\u001b[32m   3848\u001b[39m \u001b[43m                   \u001b[49m\u001b[43mvisible\u001b[49m\u001b[43m=\u001b[49m\u001b[43mvisible\u001b[49m\u001b[43m)\u001b[49m\n",
            "\u001b[36mFile \u001b[39m\u001b[32mc:\\Users\\Taha\\AppData\\Local\\Programs\\Python\\Python313\\Lib\\turtle.py:2564\u001b[39m, in \u001b[36mRawTurtle.__init__\u001b[39m\u001b[34m(self, canvas, shape, undobuffersize, visible)\u001b[39m\n\u001b[32m   2562\u001b[39m \u001b[38;5;28mself\u001b[39m._undobuffersize = undobuffersize\n\u001b[32m   2563\u001b[39m \u001b[38;5;28mself\u001b[39m.undobuffer = Tbuffer(undobuffersize)\n\u001b[32m-> \u001b[39m\u001b[32m2564\u001b[39m \u001b[38;5;28;43mself\u001b[39;49m\u001b[43m.\u001b[49m\u001b[43m_update\u001b[49m\u001b[43m(\u001b[49m\u001b[43m)\u001b[49m\n",
            "\u001b[36mFile \u001b[39m\u001b[32mc:\\Users\\Taha\\AppData\\Local\\Programs\\Python\\Python313\\Lib\\turtle.py:2667\u001b[39m, in \u001b[36mRawTurtle._update\u001b[39m\u001b[34m(self)\u001b[39m\n\u001b[32m   2665\u001b[39m     \u001b[38;5;28;01mreturn\u001b[39;00m\n\u001b[32m   2666\u001b[39m \u001b[38;5;28;01melif\u001b[39;00m screen._tracing == \u001b[32m1\u001b[39m:\n\u001b[32m-> \u001b[39m\u001b[32m2667\u001b[39m     \u001b[38;5;28;43mself\u001b[39;49m\u001b[43m.\u001b[49m\u001b[43m_update_data\u001b[49m\u001b[43m(\u001b[49m\u001b[43m)\u001b[49m\n\u001b[32m   2668\u001b[39m     \u001b[38;5;28mself\u001b[39m._drawturtle()\n\u001b[32m   2669\u001b[39m     screen._update()                  \u001b[38;5;66;03m# TurtleScreenBase\u001b[39;00m\n",
            "\u001b[36mFile \u001b[39m\u001b[32mc:\\Users\\Taha\\AppData\\Local\\Programs\\Python\\Python313\\Lib\\turtle.py:2653\u001b[39m, in \u001b[36mRawTurtle._update_data\u001b[39m\u001b[34m(self)\u001b[39m\n\u001b[32m   2652\u001b[39m \u001b[38;5;28;01mdef\u001b[39;00m\u001b[38;5;250m \u001b[39m\u001b[34m_update_data\u001b[39m(\u001b[38;5;28mself\u001b[39m):\n\u001b[32m-> \u001b[39m\u001b[32m2653\u001b[39m     \u001b[38;5;28;43mself\u001b[39;49m\u001b[43m.\u001b[49m\u001b[43mscreen\u001b[49m\u001b[43m.\u001b[49m\u001b[43m_incrementudc\u001b[49m\u001b[43m(\u001b[49m\u001b[43m)\u001b[49m\n\u001b[32m   2654\u001b[39m     \u001b[38;5;28;01mif\u001b[39;00m \u001b[38;5;28mself\u001b[39m.screen._updatecounter != \u001b[32m0\u001b[39m:\n\u001b[32m   2655\u001b[39m         \u001b[38;5;28;01mreturn\u001b[39;00m\n",
            "\u001b[36mFile \u001b[39m\u001b[32mc:\\Users\\Taha\\AppData\\Local\\Programs\\Python\\Python313\\Lib\\turtle.py:1283\u001b[39m, in \u001b[36mTurtleScreen._incrementudc\u001b[39m\u001b[34m(self)\u001b[39m\n\u001b[32m   1281\u001b[39m \u001b[38;5;28;01mif\u001b[39;00m \u001b[38;5;129;01mnot\u001b[39;00m TurtleScreen._RUNNING:\n\u001b[32m   1282\u001b[39m     TurtleScreen._RUNNING = \u001b[38;5;28;01mTrue\u001b[39;00m\n\u001b[32m-> \u001b[39m\u001b[32m1283\u001b[39m     \u001b[38;5;28;01mraise\u001b[39;00m Terminator\n\u001b[32m   1284\u001b[39m \u001b[38;5;28;01mif\u001b[39;00m \u001b[38;5;28mself\u001b[39m._tracing > \u001b[32m0\u001b[39m:\n\u001b[32m   1285\u001b[39m     \u001b[38;5;28mself\u001b[39m._updatecounter += \u001b[32m1\u001b[39m\n",
            "\u001b[31mTerminator\u001b[39m: "
          ]
        },
        {
          "ename": "",
          "evalue": "",
          "output_type": "error",
          "traceback": [
            "\u001b[1;31mThe Kernel crashed while executing code in the current cell or a previous cell. \n",
            "\u001b[1;31mPlease review the code in the cell(s) to identify a possible cause of the failure. \n",
            "\u001b[1;31mClick <a href='https://aka.ms/vscodeJupyterKernelCrash'>here</a> for more info. \n",
            "\u001b[1;31mView Jupyter <a href='command:jupyter.viewOutput'>log</a> for further details."
          ]
        }
      ],
      "source": [
        "import turtle\n",
        "s = turtle.Screen()\n",
        "s.bgcolor(\"LightBlue\")\n",
        "t = turtle.Turtle()\n",
        "t.pensize(4)\n",
        "for i in range(120,1,-5):\n",
        "    t.forward(i)\n",
        "    t.left(90)\n",
        "\n",
        "s.mainloop()\n"
      ]
    },
    {
      "cell_type": "markdown",
      "metadata": {
        "id": "9u3aYlazngbx"
      },
      "source": [
        "# Exercise 3: Drawing Nested Polygons\n",
        "## Description:\n",
        "Design an algorithm to draw nested polygons with the same center and number of sides. Consider how to adjust the size of each polygon and position the turtle while drawing."
      ]
    },
    {
      "cell_type": "code",
      "execution_count": 1,
      "metadata": {
        "id": "GvJ5VlvJnoDz"
      },
      "outputs": [
        {
          "ename": "Terminator",
          "evalue": "",
          "output_type": "error",
          "traceback": [
            "\u001b[31m---------------------------------------------------------------------------\u001b[39m",
            "\u001b[31mTerminator\u001b[39m                                Traceback (most recent call last)",
            "\u001b[36mCell\u001b[39m\u001b[36m \u001b[39m\u001b[32mIn[1]\u001b[39m\u001b[32m, line 11\u001b[39m\n\u001b[32m      9\u001b[39m \u001b[38;5;28;01mfor\u001b[39;00m i \u001b[38;5;129;01min\u001b[39;00m \u001b[38;5;28mrange\u001b[39m(\u001b[32m6\u001b[39m):\n\u001b[32m     10\u001b[39m     t.forward(k)\n\u001b[32m---> \u001b[39m\u001b[32m11\u001b[39m     \u001b[43mt\u001b[49m\u001b[43m.\u001b[49m\u001b[43mleft\u001b[49m\u001b[43m(\u001b[49m\u001b[32;43m60\u001b[39;49m\u001b[43m)\u001b[49m\n\u001b[32m     12\u001b[39m t.penup()\n\u001b[32m     13\u001b[39m t.left(\u001b[32m60\u001b[39m)\n",
            "\u001b[36mFile \u001b[39m\u001b[32mc:\\Users\\Taha\\AppData\\Local\\Programs\\Python\\Python313\\Lib\\turtle.py:1697\u001b[39m, in \u001b[36mTNavigator.left\u001b[39m\u001b[34m(self, angle)\u001b[39m\n\u001b[32m   1678\u001b[39m \u001b[38;5;28;01mdef\u001b[39;00m\u001b[38;5;250m \u001b[39m\u001b[34mleft\u001b[39m(\u001b[38;5;28mself\u001b[39m, angle):\n\u001b[32m   1679\u001b[39m \u001b[38;5;250m    \u001b[39m\u001b[33;03m\"\"\"Turn turtle left by angle units.\u001b[39;00m\n\u001b[32m   1680\u001b[39m \n\u001b[32m   1681\u001b[39m \u001b[33;03m    Aliases: left | lt\u001b[39;00m\n\u001b[32m   (...)\u001b[39m\u001b[32m   1695\u001b[39m \u001b[33;03m    67.0\u001b[39;00m\n\u001b[32m   1696\u001b[39m \u001b[33;03m    \"\"\"\u001b[39;00m\n\u001b[32m-> \u001b[39m\u001b[32m1697\u001b[39m     \u001b[38;5;28;43mself\u001b[39;49m\u001b[43m.\u001b[49m\u001b[43m_rotate\u001b[49m\u001b[43m(\u001b[49m\u001b[43mangle\u001b[49m\u001b[43m)\u001b[49m\n",
            "\u001b[36mFile \u001b[39m\u001b[32mc:\\Users\\Taha\\AppData\\Local\\Programs\\Python\\Python313\\Lib\\turtle.py:3319\u001b[39m, in \u001b[36mRawTurtle._rotate\u001b[39m\u001b[34m(self, angle)\u001b[39m\n\u001b[32m   3317\u001b[39m         \u001b[38;5;28mself\u001b[39m._update()\n\u001b[32m   3318\u001b[39m \u001b[38;5;28mself\u001b[39m._orient = neworient\n\u001b[32m-> \u001b[39m\u001b[32m3319\u001b[39m \u001b[38;5;28;43mself\u001b[39;49m\u001b[43m.\u001b[49m\u001b[43m_update\u001b[49m\u001b[43m(\u001b[49m\u001b[43m)\u001b[49m\n",
            "\u001b[36mFile \u001b[39m\u001b[32mc:\\Users\\Taha\\AppData\\Local\\Programs\\Python\\Python313\\Lib\\turtle.py:2667\u001b[39m, in \u001b[36mRawTurtle._update\u001b[39m\u001b[34m(self)\u001b[39m\n\u001b[32m   2665\u001b[39m     \u001b[38;5;28;01mreturn\u001b[39;00m\n\u001b[32m   2666\u001b[39m \u001b[38;5;28;01melif\u001b[39;00m screen._tracing == \u001b[32m1\u001b[39m:\n\u001b[32m-> \u001b[39m\u001b[32m2667\u001b[39m     \u001b[38;5;28;43mself\u001b[39;49m\u001b[43m.\u001b[49m\u001b[43m_update_data\u001b[49m\u001b[43m(\u001b[49m\u001b[43m)\u001b[49m\n\u001b[32m   2668\u001b[39m     \u001b[38;5;28mself\u001b[39m._drawturtle()\n\u001b[32m   2669\u001b[39m     screen._update()                  \u001b[38;5;66;03m# TurtleScreenBase\u001b[39;00m\n",
            "\u001b[36mFile \u001b[39m\u001b[32mc:\\Users\\Taha\\AppData\\Local\\Programs\\Python\\Python313\\Lib\\turtle.py:2653\u001b[39m, in \u001b[36mRawTurtle._update_data\u001b[39m\u001b[34m(self)\u001b[39m\n\u001b[32m   2652\u001b[39m \u001b[38;5;28;01mdef\u001b[39;00m\u001b[38;5;250m \u001b[39m\u001b[34m_update_data\u001b[39m(\u001b[38;5;28mself\u001b[39m):\n\u001b[32m-> \u001b[39m\u001b[32m2653\u001b[39m     \u001b[38;5;28;43mself\u001b[39;49m\u001b[43m.\u001b[49m\u001b[43mscreen\u001b[49m\u001b[43m.\u001b[49m\u001b[43m_incrementudc\u001b[49m\u001b[43m(\u001b[49m\u001b[43m)\u001b[49m\n\u001b[32m   2654\u001b[39m     \u001b[38;5;28;01mif\u001b[39;00m \u001b[38;5;28mself\u001b[39m.screen._updatecounter != \u001b[32m0\u001b[39m:\n\u001b[32m   2655\u001b[39m         \u001b[38;5;28;01mreturn\u001b[39;00m\n",
            "\u001b[36mFile \u001b[39m\u001b[32mc:\\Users\\Taha\\AppData\\Local\\Programs\\Python\\Python313\\Lib\\turtle.py:1283\u001b[39m, in \u001b[36mTurtleScreen._incrementudc\u001b[39m\u001b[34m(self)\u001b[39m\n\u001b[32m   1281\u001b[39m \u001b[38;5;28;01mif\u001b[39;00m \u001b[38;5;129;01mnot\u001b[39;00m TurtleScreen._RUNNING:\n\u001b[32m   1282\u001b[39m     TurtleScreen._RUNNING = \u001b[38;5;28;01mTrue\u001b[39;00m\n\u001b[32m-> \u001b[39m\u001b[32m1283\u001b[39m     \u001b[38;5;28;01mraise\u001b[39;00m Terminator\n\u001b[32m   1284\u001b[39m \u001b[38;5;28;01mif\u001b[39;00m \u001b[38;5;28mself\u001b[39m._tracing > \u001b[32m0\u001b[39m:\n\u001b[32m   1285\u001b[39m     \u001b[38;5;28mself\u001b[39m._updatecounter += \u001b[32m1\u001b[39m\n",
            "\u001b[31mTerminator\u001b[39m: "
          ]
        }
      ],
      "source": [
        "import turtle\n",
        "s = turtle.Screen()\n",
        "s.bgcolor(\"LightBlue\")\n",
        "t = turtle.Turtle()\n",
        "t.color(\"green\")\n",
        "t.speed(100)\n",
        "t.pensize(4)\n",
        "for k in range(120,0,-10):\n",
        "    for i in range(6):\n",
        "        t.forward(k)\n",
        "        t.left(60)\n",
        "    t.penup()\n",
        "    t.left(60)\n",
        "    t.forward(10)\n",
        "    t.right(60)\n",
        "    t.pendown()\n",
        "\n",
        "\n",
        "s.mainloop()"
      ]
    },
    {
      "cell_type": "markdown",
      "metadata": {
        "id": "w4S_F7XJnpYI"
      },
      "source": [
        "# Exercise 4: Drawing a Colorful Spiral\n",
        "## Description:\n",
        "Design an algorithm to draw a spiral using different colors. Consider how to change the color at each step and create the spiral shape."
      ]
    },
    {
      "cell_type": "code",
      "execution_count": null,
      "metadata": {
        "id": "e4KCcVxpnuUn"
      },
      "outputs": [
        {
          "ename": "Terminator",
          "evalue": "",
          "output_type": "error",
          "traceback": [
            "\u001b[31m---------------------------------------------------------------------------\u001b[39m",
            "\u001b[31mTerminator\u001b[39m                                Traceback (most recent call last)",
            "\u001b[36mCell\u001b[39m\u001b[36m \u001b[39m\u001b[32mIn[2]\u001b[39m\u001b[32m, line 11\u001b[39m\n\u001b[32m      9\u001b[39m \u001b[38;5;28;01mfor\u001b[39;00m i \u001b[38;5;129;01min\u001b[39;00m colors:\n\u001b[32m     10\u001b[39m     t.color(i)\n\u001b[32m---> \u001b[39m\u001b[32m11\u001b[39m     \u001b[43mt\u001b[49m\u001b[43m.\u001b[49m\u001b[43mcircle\u001b[49m\u001b[43m(\u001b[49m\u001b[43mk\u001b[49m\u001b[43m,\u001b[49m\u001b[43mextent\u001b[49m\u001b[43m=\u001b[49m\u001b[32;43m60\u001b[39;49m\u001b[43m)\u001b[49m\n\u001b[32m     12\u001b[39m     t.right(\u001b[32m1\u001b[39m)\n",
            "\u001b[36mFile \u001b[39m\u001b[32mc:\\Users\\Taha\\AppData\\Local\\Programs\\Python\\Python313\\Lib\\turtle.py:1995\u001b[39m, in \u001b[36mTNavigator.circle\u001b[39m\u001b[34m(self, radius, extent, steps)\u001b[39m\n\u001b[32m   1993\u001b[39m \u001b[38;5;28;01mif\u001b[39;00m speed == \u001b[32m0\u001b[39m:\n\u001b[32m   1994\u001b[39m     \u001b[38;5;28mself\u001b[39m._tracer(tr, dl)\n\u001b[32m-> \u001b[39m\u001b[32m1995\u001b[39m \u001b[38;5;28;43mself\u001b[39;49m\u001b[43m.\u001b[49m\u001b[43mspeed\u001b[49m\u001b[43m(\u001b[49m\u001b[43mspeed\u001b[49m\u001b[43m)\u001b[49m\n\u001b[32m   1996\u001b[39m \u001b[38;5;28;01mif\u001b[39;00m \u001b[38;5;28mself\u001b[39m.undobuffer:\n\u001b[32m   1997\u001b[39m     \u001b[38;5;28mself\u001b[39m.undobuffer.cumulate = \u001b[38;5;28;01mFalse\u001b[39;00m\n",
            "\u001b[36mFile \u001b[39m\u001b[32mc:\\Users\\Taha\\AppData\\Local\\Programs\\Python\\Python313\\Lib\\turtle.py:2172\u001b[39m, in \u001b[36mTPen.speed\u001b[39m\u001b[34m(self, speed)\u001b[39m\n\u001b[32m   2170\u001b[39m \u001b[38;5;28;01melse\u001b[39;00m:\n\u001b[32m   2171\u001b[39m     speed = \u001b[32m0\u001b[39m\n\u001b[32m-> \u001b[39m\u001b[32m2172\u001b[39m \u001b[38;5;28;43mself\u001b[39;49m\u001b[43m.\u001b[49m\u001b[43mpen\u001b[49m\u001b[43m(\u001b[49m\u001b[43mspeed\u001b[49m\u001b[43m=\u001b[49m\u001b[43mspeed\u001b[49m\u001b[43m)\u001b[49m\n",
            "\u001b[36mFile \u001b[39m\u001b[32mc:\\Users\\Taha\\AppData\\Local\\Programs\\Python\\Python313\\Lib\\turtle.py:2466\u001b[39m, in \u001b[36mTPen.pen\u001b[39m\u001b[34m(self, pen, **pendict)\u001b[39m\n\u001b[32m   2463\u001b[39m     sa, ca = math.sin(\u001b[38;5;28mself\u001b[39m._tilt), math.cos(\u001b[38;5;28mself\u001b[39m._tilt)\n\u001b[32m   2464\u001b[39m     \u001b[38;5;28mself\u001b[39m._shapetrafo = ( scx*ca, scy*(shf*ca + sa),\n\u001b[32m   2465\u001b[39m                         -scx*sa, scy*(ca - shf*sa))\n\u001b[32m-> \u001b[39m\u001b[32m2466\u001b[39m \u001b[38;5;28;43mself\u001b[39;49m\u001b[43m.\u001b[49m\u001b[43m_update\u001b[49m\u001b[43m(\u001b[49m\u001b[43m)\u001b[49m\n",
            "\u001b[36mFile \u001b[39m\u001b[32mc:\\Users\\Taha\\AppData\\Local\\Programs\\Python\\Python313\\Lib\\turtle.py:2667\u001b[39m, in \u001b[36mRawTurtle._update\u001b[39m\u001b[34m(self)\u001b[39m\n\u001b[32m   2665\u001b[39m     \u001b[38;5;28;01mreturn\u001b[39;00m\n\u001b[32m   2666\u001b[39m \u001b[38;5;28;01melif\u001b[39;00m screen._tracing == \u001b[32m1\u001b[39m:\n\u001b[32m-> \u001b[39m\u001b[32m2667\u001b[39m     \u001b[38;5;28;43mself\u001b[39;49m\u001b[43m.\u001b[49m\u001b[43m_update_data\u001b[49m\u001b[43m(\u001b[49m\u001b[43m)\u001b[49m\n\u001b[32m   2668\u001b[39m     \u001b[38;5;28mself\u001b[39m._drawturtle()\n\u001b[32m   2669\u001b[39m     screen._update()                  \u001b[38;5;66;03m# TurtleScreenBase\u001b[39;00m\n",
            "\u001b[36mFile \u001b[39m\u001b[32mc:\\Users\\Taha\\AppData\\Local\\Programs\\Python\\Python313\\Lib\\turtle.py:2653\u001b[39m, in \u001b[36mRawTurtle._update_data\u001b[39m\u001b[34m(self)\u001b[39m\n\u001b[32m   2652\u001b[39m \u001b[38;5;28;01mdef\u001b[39;00m\u001b[38;5;250m \u001b[39m\u001b[34m_update_data\u001b[39m(\u001b[38;5;28mself\u001b[39m):\n\u001b[32m-> \u001b[39m\u001b[32m2653\u001b[39m     \u001b[38;5;28;43mself\u001b[39;49m\u001b[43m.\u001b[49m\u001b[43mscreen\u001b[49m\u001b[43m.\u001b[49m\u001b[43m_incrementudc\u001b[49m\u001b[43m(\u001b[49m\u001b[43m)\u001b[49m\n\u001b[32m   2654\u001b[39m     \u001b[38;5;28;01mif\u001b[39;00m \u001b[38;5;28mself\u001b[39m.screen._updatecounter != \u001b[32m0\u001b[39m:\n\u001b[32m   2655\u001b[39m         \u001b[38;5;28;01mreturn\u001b[39;00m\n",
            "\u001b[36mFile \u001b[39m\u001b[32mc:\\Users\\Taha\\AppData\\Local\\Programs\\Python\\Python313\\Lib\\turtle.py:1283\u001b[39m, in \u001b[36mTurtleScreen._incrementudc\u001b[39m\u001b[34m(self)\u001b[39m\n\u001b[32m   1281\u001b[39m \u001b[38;5;28;01mif\u001b[39;00m \u001b[38;5;129;01mnot\u001b[39;00m TurtleScreen._RUNNING:\n\u001b[32m   1282\u001b[39m     TurtleScreen._RUNNING = \u001b[38;5;28;01mTrue\u001b[39;00m\n\u001b[32m-> \u001b[39m\u001b[32m1283\u001b[39m     \u001b[38;5;28;01mraise\u001b[39;00m Terminator\n\u001b[32m   1284\u001b[39m \u001b[38;5;28;01mif\u001b[39;00m \u001b[38;5;28mself\u001b[39m._tracing > \u001b[32m0\u001b[39m:\n\u001b[32m   1285\u001b[39m     \u001b[38;5;28mself\u001b[39m._updatecounter += \u001b[32m1\u001b[39m\n",
            "\u001b[31mTerminator\u001b[39m: "
          ]
        }
      ],
      "source": [
        "import turtle\n",
        "s = turtle.Screen()\n",
        "s.bgcolor(\"LightBlue\")\n",
        "t = turtle.Turtle()\n",
        "t.speed(500000)\n",
        "t.pensize(5)\n",
        "colors = [\"green\",\"blue\",\"orange\",\"yellow\",\"purple\",\"red\"]\n",
        "for k in range(120,0,-1):\n",
        "    for i in colors:\n",
        "        t.color(i)\n",
        "        t.circle(k,extent=60)\n",
        "        t.right(1)\n",
        "s.mainloop()        "
      ]
    },
    {
      "cell_type": "markdown",
      "metadata": {
        "id": "U4JZEptVn74m"
      },
      "source": [
        "# Exercise 5: Drawing a Random Pattern\n",
        "## Description:\n",
        "Design an algorithm to create an interesting pattern by randomly changing the turtle's movements and properties (color, thickness, etc.). Think about how to use randomness and vary different parameters."
      ]
    },
    {
      "cell_type": "code",
      "execution_count": 3,
      "metadata": {
        "id": "4nk33NI8m9s1"
      },
      "outputs": [
        {
          "ename": "Terminator",
          "evalue": "",
          "output_type": "error",
          "traceback": [
            "\u001b[31m---------------------------------------------------------------------------\u001b[39m",
            "\u001b[31mTerminator\u001b[39m                                Traceback (most recent call last)",
            "\u001b[36mCell\u001b[39m\u001b[36m \u001b[39m\u001b[32mIn[3]\u001b[39m\u001b[32m, line 25\u001b[39m\n\u001b[32m     23\u001b[39m     t.forward(randomlength)\n\u001b[32m     24\u001b[39m     t.right(randomangle)\n\u001b[32m---> \u001b[39m\u001b[32m25\u001b[39m     \u001b[43mt\u001b[49m\u001b[43m.\u001b[49m\u001b[43mright\u001b[49m\u001b[43m(\u001b[49m\u001b[43mrandomangle\u001b[49m\u001b[43m)\u001b[49m\n\u001b[32m     26\u001b[39m     t.forward(randomlength)\n\u001b[32m     28\u001b[39m s.mainloop()\n",
            "\u001b[36mFile \u001b[39m\u001b[32mc:\\Users\\Taha\\AppData\\Local\\Programs\\Python\\Python313\\Lib\\turtle.py:1676\u001b[39m, in \u001b[36mTNavigator.right\u001b[39m\u001b[34m(self, angle)\u001b[39m\n\u001b[32m   1657\u001b[39m \u001b[38;5;28;01mdef\u001b[39;00m\u001b[38;5;250m \u001b[39m\u001b[34mright\u001b[39m(\u001b[38;5;28mself\u001b[39m, angle):\n\u001b[32m   1658\u001b[39m \u001b[38;5;250m    \u001b[39m\u001b[33;03m\"\"\"Turn turtle right by angle units.\u001b[39;00m\n\u001b[32m   1659\u001b[39m \n\u001b[32m   1660\u001b[39m \u001b[33;03m    Aliases: right | rt\u001b[39;00m\n\u001b[32m   (...)\u001b[39m\u001b[32m   1674\u001b[39m \u001b[33;03m    337.0\u001b[39;00m\n\u001b[32m   1675\u001b[39m \u001b[33;03m    \"\"\"\u001b[39;00m\n\u001b[32m-> \u001b[39m\u001b[32m1676\u001b[39m     \u001b[38;5;28;43mself\u001b[39;49m\u001b[43m.\u001b[49m\u001b[43m_rotate\u001b[49m\u001b[43m(\u001b[49m\u001b[43m-\u001b[49m\u001b[43mangle\u001b[49m\u001b[43m)\u001b[49m\n",
            "\u001b[36mFile \u001b[39m\u001b[32mc:\\Users\\Taha\\AppData\\Local\\Programs\\Python\\Python313\\Lib\\turtle.py:3319\u001b[39m, in \u001b[36mRawTurtle._rotate\u001b[39m\u001b[34m(self, angle)\u001b[39m\n\u001b[32m   3317\u001b[39m         \u001b[38;5;28mself\u001b[39m._update()\n\u001b[32m   3318\u001b[39m \u001b[38;5;28mself\u001b[39m._orient = neworient\n\u001b[32m-> \u001b[39m\u001b[32m3319\u001b[39m \u001b[38;5;28;43mself\u001b[39;49m\u001b[43m.\u001b[49m\u001b[43m_update\u001b[49m\u001b[43m(\u001b[49m\u001b[43m)\u001b[49m\n",
            "\u001b[36mFile \u001b[39m\u001b[32mc:\\Users\\Taha\\AppData\\Local\\Programs\\Python\\Python313\\Lib\\turtle.py:2667\u001b[39m, in \u001b[36mRawTurtle._update\u001b[39m\u001b[34m(self)\u001b[39m\n\u001b[32m   2665\u001b[39m     \u001b[38;5;28;01mreturn\u001b[39;00m\n\u001b[32m   2666\u001b[39m \u001b[38;5;28;01melif\u001b[39;00m screen._tracing == \u001b[32m1\u001b[39m:\n\u001b[32m-> \u001b[39m\u001b[32m2667\u001b[39m     \u001b[38;5;28;43mself\u001b[39;49m\u001b[43m.\u001b[49m\u001b[43m_update_data\u001b[49m\u001b[43m(\u001b[49m\u001b[43m)\u001b[49m\n\u001b[32m   2668\u001b[39m     \u001b[38;5;28mself\u001b[39m._drawturtle()\n\u001b[32m   2669\u001b[39m     screen._update()                  \u001b[38;5;66;03m# TurtleScreenBase\u001b[39;00m\n",
            "\u001b[36mFile \u001b[39m\u001b[32mc:\\Users\\Taha\\AppData\\Local\\Programs\\Python\\Python313\\Lib\\turtle.py:2653\u001b[39m, in \u001b[36mRawTurtle._update_data\u001b[39m\u001b[34m(self)\u001b[39m\n\u001b[32m   2652\u001b[39m \u001b[38;5;28;01mdef\u001b[39;00m\u001b[38;5;250m \u001b[39m\u001b[34m_update_data\u001b[39m(\u001b[38;5;28mself\u001b[39m):\n\u001b[32m-> \u001b[39m\u001b[32m2653\u001b[39m     \u001b[38;5;28;43mself\u001b[39;49m\u001b[43m.\u001b[49m\u001b[43mscreen\u001b[49m\u001b[43m.\u001b[49m\u001b[43m_incrementudc\u001b[49m\u001b[43m(\u001b[49m\u001b[43m)\u001b[49m\n\u001b[32m   2654\u001b[39m     \u001b[38;5;28;01mif\u001b[39;00m \u001b[38;5;28mself\u001b[39m.screen._updatecounter != \u001b[32m0\u001b[39m:\n\u001b[32m   2655\u001b[39m         \u001b[38;5;28;01mreturn\u001b[39;00m\n",
            "\u001b[36mFile \u001b[39m\u001b[32mc:\\Users\\Taha\\AppData\\Local\\Programs\\Python\\Python313\\Lib\\turtle.py:1283\u001b[39m, in \u001b[36mTurtleScreen._incrementudc\u001b[39m\u001b[34m(self)\u001b[39m\n\u001b[32m   1281\u001b[39m \u001b[38;5;28;01mif\u001b[39;00m \u001b[38;5;129;01mnot\u001b[39;00m TurtleScreen._RUNNING:\n\u001b[32m   1282\u001b[39m     TurtleScreen._RUNNING = \u001b[38;5;28;01mTrue\u001b[39;00m\n\u001b[32m-> \u001b[39m\u001b[32m1283\u001b[39m     \u001b[38;5;28;01mraise\u001b[39;00m Terminator\n\u001b[32m   1284\u001b[39m \u001b[38;5;28;01mif\u001b[39;00m \u001b[38;5;28mself\u001b[39m._tracing > \u001b[32m0\u001b[39m:\n\u001b[32m   1285\u001b[39m     \u001b[38;5;28mself\u001b[39m._updatecounter += \u001b[32m1\u001b[39m\n",
            "\u001b[31mTerminator\u001b[39m: "
          ]
        }
      ],
      "source": [
        "import turtle,random\n",
        "\n",
        "s = turtle.Screen()\n",
        "s.bgcolor(\"LightBlue\")\n",
        "t = turtle.Turtle()\n",
        "t.speed(5)\n",
        "\n",
        "colors = [\"green\",\"blue\",\"orange\",\"yellow\",\"purple\",\"red\",\"black\"]\n",
        "think = [1,2,3,4,5,6,7,8,9,10]\n",
        "angle = [12,23,46,89,123,234,340,214,278,60,3,5]\n",
        "length = [10,23,35,89,67]\n",
        "\n",
        "for i in range(10):\n",
        "    randomcolor = random.choice(list(colors))\n",
        "    t.color(randomcolor)\n",
        "    randompen = random.choice(list(think))\n",
        "    t.pensize(randompen)\n",
        "    randomangle = random.choice(list(angle))\n",
        "    randomlength = random.choice(list(length))\n",
        "    t.forward(randomlength)\n",
        "    t.left(randomangle)\n",
        "    t.forward(randomlength)\n",
        "    t.forward(randomlength)\n",
        "    t.right(randomangle)\n",
        "    t.right(randomangle)\n",
        "    t.forward(randomlength)\n",
        "\n",
        "s.mainloop()"
      ]
    }
  ],
  "metadata": {
    "accelerator": "GPU",
    "colab": {
      "gpuType": "T4",
      "provenance": []
    },
    "kernelspec": {
      "display_name": "Python 3",
      "language": "python",
      "name": "python3"
    },
    "language_info": {
      "codemirror_mode": {
        "name": "ipython",
        "version": 3
      },
      "file_extension": ".py",
      "mimetype": "text/x-python",
      "name": "python",
      "nbconvert_exporter": "python",
      "pygments_lexer": "ipython3",
      "version": "3.13.2"
    }
  },
  "nbformat": 4,
  "nbformat_minor": 0
}
