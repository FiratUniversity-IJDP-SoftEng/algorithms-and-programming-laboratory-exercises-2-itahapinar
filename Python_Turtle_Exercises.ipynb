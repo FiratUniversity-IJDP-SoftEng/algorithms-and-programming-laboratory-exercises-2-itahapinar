{
  "cells": [
    {
      "cell_type": "markdown",
      "metadata": {
        "id": "ytbzyl3rnDRY"
      },
      "source": [
        "# Python Turtle Exercises\n",
        "\n",
        "This assignment aims to improve your algorithmic skills by drawing various geometric patterns using the Python Turtle library.  \n",
        "Each exercise includes a description and a code cell for your solutions.\n",
        "\n",
        "# Exercise 1: Drawing a Star\n",
        "## Description:\n",
        "Design an algorithm to draw a five-pointed star. Calculate the angle and line length correctly."
      ]
    },
    {
      "cell_type": "code",
      "execution_count": 7,
      "metadata": {
        "id": "3uUSg4xJnUAw"
      },
      "outputs": [],
      "source": [
        "import turtle\n",
        "s = turtle.Screen()\n",
        "s.bgcolor(\"LightBlue\")\n",
        "t = turtle.Turtle()\n",
        "t.color(\"red\")\n",
        "for i in range(5):\n",
        "    t.forward(120)\n",
        "    t.right(144)\n",
        "\n",
        "s.mainloop()"
      ]
    },
    {
      "cell_type": "markdown",
      "metadata": {
        "id": "tGUI2TbgnZYu"
      },
      "source": [
        "# Exercise 2: Drawing a Spiral Square\n",
        "## Description:\n",
        "Design an algorithm to draw a spiral square with increasing side lengths. Consider how to change the turtle's turning angle and movement distance after each square."
      ]
    },
    {
      "cell_type": "code",
      "execution_count": null,
      "metadata": {
        "id": "UAinAy64neJ9"
      },
      "outputs": [],
      "source": [
        "import turtle\n",
        "s = turtle.Screen()\n",
        "s.bgcolor(\"LightBlue\")\n",
        "t = turtle.Turtle()\n",
        "t.pensize(4)\n",
        "for i in range(120,1,-5):\n",
        "    t.forward(i)\n",
        "    t.left(90)\n",
        "\n",
        "s.mainloop()\n"
      ]
    },
    {
      "cell_type": "markdown",
      "metadata": {
        "id": "9u3aYlazngbx"
      },
      "source": [
        "# Exercise 3: Drawing Nested Polygons\n",
        "## Description:\n",
        "Design an algorithm to draw nested polygons with the same center and number of sides. Consider how to adjust the size of each polygon and position the turtle while drawing."
      ]
    },
    {
      "cell_type": "code",
      "execution_count": null,
      "metadata": {
        "id": "GvJ5VlvJnoDz"
      },
      "outputs": [],
      "source": [
        "import turtle\n",
        "s = turtle.Screen()\n",
        "s.bgcolor(\"LightBlue\")\n",
        "t = turtle.Turtle()\n",
        "t.color(\"green\")\n",
        "t.speed(100)\n",
        "t.pensize(4)\n",
        "for k in range(120,0,-10):\n",
        "    for i in range(6):\n",
        "        t.forward(k)\n",
        "        t.left(60)\n",
        "    t.penup()\n",
        "    t.left(60)\n",
        "    t.forward(10)\n",
        "    t.right(60)\n",
        "    t.pendown()\n",
        "\n",
        "\n",
        "s.mainloop()"
      ]
    },
    {
      "cell_type": "markdown",
      "metadata": {
        "id": "w4S_F7XJnpYI"
      },
      "source": [
        "# Exercise 4: Drawing a Colorful Spiral\n",
        "## Description:\n",
        "Design an algorithm to draw a spiral using different colors. Consider how to change the color at each step and create the spiral shape."
      ]
    },
    {
      "cell_type": "code",
      "execution_count": null,
      "metadata": {
        "id": "e4KCcVxpnuUn"
      },
      "outputs": [],
      "source": [
        "import turtle\n",
        "s = turtle.Screen()\n",
        "s.bgcolor(\"LightBlue\")\n",
        "t = turtle.Turtle()\n",
        "t.speed(500000)\n",
        "t.pensize(5)\n",
        "colors = [\"green\",\"blue\",\"orange\",\"yellow\",\"purple\",\"red\"]\n",
        "for k in range(120,0,-1):\n",
        "    for i in colors:\n",
        "        t.color(i)\n",
        "        t.circle(k,extent=60)\n",
        "        t.right(1)\n",
        "s.mainloop()        "
      ]
    },
    {
      "cell_type": "markdown",
      "metadata": {
        "id": "U4JZEptVn74m"
      },
      "source": [
        "# Exercise 5: Drawing a Random Pattern\n",
        "## Description:\n",
        "Design an algorithm to create an interesting pattern by randomly changing the turtle's movements and properties (color, thickness, etc.). Think about how to use randomness and vary different parameters."
      ]
    },
    {
      "cell_type": "code",
      "execution_count": 1,
      "metadata": {
        "id": "4nk33NI8m9s1"
      },
      "outputs": [],
      "source": [
        "import turtle,random\n",
        "\n",
        "s = turtle.Screen()\n",
        "s.bgcolor(\"LightBlue\")\n",
        "t = turtle.Turtle()\n",
        "t.speed(5)\n",
        "\n",
        "colors = [\"green\",\"blue\",\"orange\",\"yellow\",\"purple\",\"red\",\"black\"]\n",
        "think = [1,2,3,4,5,6,7,8,9,10]\n",
        "angle = [12,23,46,89,123,234,340,214,278,60,3,5]\n",
        "length = [10,23,35,89,67]\n",
        "\n",
        "for i in range(10):\n",
        "    randomcolor = random.choice(list(colors))\n",
        "    t.color(randomcolor)\n",
        "    randompen = random.choice(list(think))\n",
        "    t.pensize(randompen)\n",
        "    randomangle = random.choice(list(angle))\n",
        "    randomlength = random.choice(list(length))\n",
        "    t.forward(randomlength)\n",
        "    t.left(randomangle)\n",
        "    t.forward(randomlength)\n",
        "    t.forward(randomlength)\n",
        "    t.right(randomangle)\n",
        "    t.right(randomangle)\n",
        "    t.forward(randomlength)\n",
        "\n",
        "s.mainloop()"
      ]
    }
  ],
  "metadata": {
    "accelerator": "GPU",
    "colab": {
      "gpuType": "T4",
      "provenance": []
    },
    "kernelspec": {
      "display_name": "Python 3",
      "language": "python",
      "name": "python3"
    },
    "language_info": {
      "codemirror_mode": {
        "name": "ipython",
        "version": 3
      },
      "file_extension": ".py",
      "mimetype": "text/x-python",
      "name": "python",
      "nbconvert_exporter": "python",
      "pygments_lexer": "ipython3",
      "version": "3.13.2"
    }
  },
  "nbformat": 4,
  "nbformat_minor": 0
}
